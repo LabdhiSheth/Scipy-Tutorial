{
 "cells": [
  {
   "cell_type": "code",
   "execution_count": 4,
   "id": "ba07b1e3",
   "metadata": {},
   "outputs": [],
   "source": [
    "from scipy import stats\n",
    "import numpy as np\n",
    "from matplotlib import pyplot as plt"
   ]
  },
  {
   "cell_type": "code",
   "execution_count": 5,
   "id": "a5720632",
   "metadata": {},
   "outputs": [
    {
     "data": {
      "text/plain": [
       "array([ 5.25335936e-01, -1.52666391e+00,  1.89695628e+00,  1.06236079e+00,\n",
       "       -2.16950344e-01,  2.40881519e+00,  1.58583103e+00,  9.88443745e-01,\n",
       "       -6.04910510e-01, -8.62666899e-01, -2.25192382e+00, -1.78463727e-01,\n",
       "       -5.00784327e-01, -1.26057302e+00, -2.06278857e+00, -3.04072426e-01,\n",
       "       -2.11359970e-02,  1.34860982e+00,  3.01665071e-01, -5.27433873e-01,\n",
       "       -6.82342349e-02,  6.68380182e-01, -3.48339717e-02, -2.02194604e+00,\n",
       "        1.55084813e+00,  6.67463394e-01, -8.89353720e-01, -4.98453683e-01,\n",
       "       -9.98827199e-02, -2.32111186e-01,  1.08446022e+00, -1.17492049e+00,\n",
       "        1.13298842e+00, -6.26747721e-01,  1.08326852e+00, -2.88830438e-01,\n",
       "       -1.48123654e+00,  4.33480627e-01, -6.84783319e-01, -4.90626007e-01,\n",
       "        7.96766699e-01,  1.99539064e-01,  8.42913159e-01,  9.44891589e-01,\n",
       "       -1.31518689e-01, -7.35387002e-01, -2.64073914e-01,  1.68525597e-01,\n",
       "        4.71484050e-01, -3.59742601e-01,  1.97200028e+00, -3.92802082e-01,\n",
       "        5.51266726e-01, -5.79911709e-01, -5.02997279e-01,  2.04161589e+00,\n",
       "       -9.18778794e-02,  3.36244374e-01, -6.15793789e-01, -6.00245277e-01,\n",
       "        1.35743949e+00, -4.32302947e-01,  2.50400856e-01,  2.20665748e+00,\n",
       "       -6.52878216e-01, -1.61428069e+00,  2.62538189e-01,  8.82868056e-01,\n",
       "       -1.09590998e+00,  7.27853985e-01, -2.98133314e-01, -1.01540666e+00,\n",
       "        1.25603459e+00,  4.77809297e-02,  8.57850149e-02,  1.37531547e+00,\n",
       "       -5.75328326e-01, -3.37042050e-01, -8.20046139e-02, -1.16024690e+00,\n",
       "        3.50811615e-01, -7.10429726e-01, -6.98896260e-01, -6.07577586e-01,\n",
       "        5.08586786e-01,  2.49526005e-01, -9.82573312e-01, -5.74751712e-01,\n",
       "       -9.30517220e-01, -3.23529307e-01, -1.61026496e+00, -2.26409850e-01,\n",
       "       -1.00103574e+00,  8.15160384e-02,  7.35934264e-01, -1.36907473e+00,\n",
       "        2.23813005e-01,  8.36038443e-01,  1.00156378e+00,  1.82069884e+00,\n",
       "       -3.17035114e-01, -7.52120405e-01,  1.36211290e+00,  1.23690783e+00,\n",
       "        3.83739274e-01, -8.13131911e-02,  5.06957121e-02,  3.76493878e-01,\n",
       "       -1.62327240e+00,  8.95196993e-01, -7.07753338e-01, -2.82852318e-01,\n",
       "       -5.24389216e-01, -1.14837098e-01, -3.33808973e-01, -1.33050770e+00,\n",
       "       -6.48664249e-01,  9.47208750e-01, -2.49242670e-01, -1.46456950e+00,\n",
       "       -8.04038302e-01,  1.36882485e+00, -5.91981684e-01, -2.11683540e-01,\n",
       "       -4.41423781e-01,  3.40484651e-01,  1.35250608e-01,  5.27493049e-01,\n",
       "        1.62239921e-01, -6.08136444e-01,  1.16852783e+00,  1.11730402e-03,\n",
       "       -1.04224908e+00,  8.26193282e-01, -2.21170995e-01,  9.03724063e-01,\n",
       "       -5.31669057e-01, -6.24814400e-01,  1.98719112e+00, -1.39807847e+00,\n",
       "       -2.00637894e-01,  5.77783046e-01, -1.48345773e+00,  1.20958165e-01,\n",
       "        2.18332002e+00, -1.27123799e+00,  2.27129445e+00, -6.88989497e-01,\n",
       "        2.39602816e-01, -9.90937906e-01,  1.29510231e-01, -4.71014222e-01,\n",
       "        1.38492862e+00, -1.55455435e-01, -1.04895449e+00, -4.91524753e-01,\n",
       "       -9.41144586e-01,  3.44480811e-01,  6.38389112e-01, -6.42598277e-01,\n",
       "        5.26342742e-01, -1.21536748e+00, -5.59770433e-01, -9.74524064e-01,\n",
       "        1.02686608e+00, -2.33941033e+00, -5.51847360e-01,  7.94177631e-01,\n",
       "        2.43882506e-01,  1.21729398e+00,  1.56703745e-01, -2.75593956e-01,\n",
       "       -8.82260689e-01,  9.68973850e-01, -9.43731703e-02,  2.20476063e-01,\n",
       "       -1.39650709e+00, -4.32271999e-01, -5.41680520e-01, -1.60677958e+00,\n",
       "        1.86842107e-01, -3.73622494e-02,  1.09890880e+00,  1.39792694e-01,\n",
       "       -6.76326110e-01,  1.17228838e-01,  2.69735591e+00, -6.13153207e-01,\n",
       "        7.54418099e-01,  1.53299199e+00, -1.32549845e+00, -1.07029960e+00,\n",
       "        6.24831291e-01,  2.80569221e-01,  3.58672890e-01, -1.37373889e+00,\n",
       "        9.93966499e-02,  1.20962175e+00, -4.23109948e-04,  9.79961815e-01,\n",
       "       -4.16251449e-01,  4.03280526e-01, -1.72080878e+00,  4.32973991e-01,\n",
       "        1.86170151e+00, -4.90960830e-01,  5.77399725e-01,  1.60954075e-01,\n",
       "        1.48844629e+00, -9.47162161e-01,  1.39242505e-01, -1.53186225e+00,\n",
       "       -7.45562186e-01,  5.55503344e-01,  6.93098647e-02,  5.26526816e-01,\n",
       "       -4.36507851e-01, -1.57732617e+00,  5.28661712e-01, -1.37727282e+00,\n",
       "        2.96128170e-01, -7.46559218e-01,  7.41744703e-01,  6.36335887e-01,\n",
       "       -2.17468403e+00,  1.03133348e+00,  1.09359272e-01,  7.20551415e-01,\n",
       "       -9.75902035e-01,  1.03476958e+00, -8.56679295e-01,  4.76318202e-01,\n",
       "       -9.72776487e-01,  2.21569211e-02,  1.41304698e+00,  9.91745494e-02,\n",
       "        7.50655279e-01,  3.54946289e-01, -2.50777524e-01,  1.25634208e+00,\n",
       "       -7.36981764e-01, -2.49433172e+00,  8.77262238e-01,  1.43756664e+00,\n",
       "       -4.01277921e-01,  4.10608581e-01,  2.78946650e-01,  7.93899808e-01,\n",
       "       -4.92796535e-01, -4.71459377e-01,  1.91512142e-01,  4.50927671e-01,\n",
       "       -1.67589475e+00,  1.61319123e+00, -1.42204714e+00, -1.60791087e+00,\n",
       "       -6.21327685e-01,  6.13060293e-02, -1.62644563e-01, -6.68199352e-01,\n",
       "       -2.80833862e-02, -5.85681899e-02, -7.17314857e-02,  4.71124741e-02,\n",
       "        9.30102250e-01, -1.48268297e+00,  7.07445328e-01,  2.56928081e-01,\n",
       "       -6.21405944e-01,  3.86925648e-01, -1.35207227e+00, -1.25141665e+00,\n",
       "        2.21124890e-01, -6.57598453e-01, -1.93463749e-01,  8.81688833e-01,\n",
       "        1.54735961e+00,  8.90164801e-01, -4.35488393e-01,  4.16278269e-01,\n",
       "       -1.36447089e+00, -9.98440381e-02,  1.10780145e-01, -5.56485501e-01,\n",
       "       -1.47962381e+00, -5.92627069e-01, -1.27163638e+00,  1.66005744e-01,\n",
       "        5.23126090e-01, -7.93185347e-03,  2.45507974e-01,  4.81797896e-01,\n",
       "        2.14699315e+00, -1.57613813e+00, -2.22001888e-01, -5.35484747e-01,\n",
       "       -4.80688929e-01,  3.65994870e-01,  5.27824452e-02, -6.59296958e-01,\n",
       "       -6.48937749e-01, -7.90989317e-01,  1.26302293e+00, -2.25107056e+00,\n",
       "        1.50531368e+00,  3.45742777e-01, -1.42360715e+00,  6.56727456e-01,\n",
       "        5.84845073e-02,  3.28922022e-01, -9.92620068e-01,  9.88822420e-01,\n",
       "        9.81571448e-03,  7.23953624e-01,  1.06089752e+00,  1.03240761e+00,\n",
       "        7.75918113e-02, -9.72080981e-01, -6.27817010e-01,  6.34149408e-01,\n",
       "       -8.60428038e-01,  1.48860588e+00,  1.27072893e-02, -2.09010993e+00,\n",
       "        1.85703482e-01,  1.20572639e-01,  1.31310738e+00,  8.17182063e-01,\n",
       "        3.29242066e-01,  8.73193738e-01, -7.19740750e-01, -7.12334549e-01,\n",
       "       -1.40367511e+00,  1.82283840e+00, -7.25768268e-02,  8.13324136e-01,\n",
       "        8.00718839e-01, -1.28591795e+00,  5.05020454e-01, -2.27065807e-01,\n",
       "        6.91211778e-01, -9.02138724e-01, -9.09267219e-02,  9.95081076e-01,\n",
       "        4.86999193e-02, -1.48106631e+00,  3.21657378e-01, -8.80505876e-02,\n",
       "       -1.54638832e+00,  7.54996027e-01,  5.76107172e-01,  1.68458420e+00,\n",
       "        1.15286098e+00, -1.48247183e+00, -1.86620341e+00,  6.70319030e-01,\n",
       "        1.82645744e+00,  3.33397900e-01,  3.52347830e-01,  2.36265832e+00,\n",
       "       -2.55945859e-02,  1.31556829e-01,  3.52420959e-01,  4.84780457e-01,\n",
       "        1.16094478e-01, -2.77418344e-01,  6.29893164e-01, -7.04100719e-01,\n",
       "        6.85004229e-01,  6.85837782e-01, -1.43238271e+00,  1.28737938e+00,\n",
       "       -4.62457435e-01,  1.62379189e-01, -2.48200926e-01, -1.14046616e+00,\n",
       "       -9.90358054e-01, -6.88952646e-01, -7.67617665e-01, -5.97399812e-01,\n",
       "        8.05750543e-01, -8.04765090e-01,  3.28356649e+00,  4.18211382e-02,\n",
       "        8.82354399e-01,  3.50018758e-01,  1.12035586e+00, -2.76404828e-01,\n",
       "       -2.35121554e+00, -2.09348297e+00, -6.39818021e-01, -3.84467098e-01,\n",
       "       -1.49554407e+00,  4.13164605e-01,  1.48462369e+00, -7.22363605e-01,\n",
       "        1.10146076e+00, -1.76778192e+00, -1.95931822e-01,  3.39976075e-01,\n",
       "        4.94013323e-02, -3.87147817e-01,  1.37544004e+00,  1.04123333e+00,\n",
       "       -7.71380424e-01, -1.47450519e+00, -7.89491066e-01, -5.08057578e-01,\n",
       "       -1.48444408e+00, -2.19851274e-01, -6.47332866e-01, -1.09117187e+00,\n",
       "       -4.52273802e-01, -9.46287045e-01,  1.46870853e-01,  4.79274812e-01,\n",
       "       -3.18818006e-01, -2.05405119e+00, -1.08136140e+00, -6.95012372e-01,\n",
       "       -9.13466344e-02, -3.18406250e-01,  6.91643382e-01,  1.85633554e-01,\n",
       "        9.76956374e-01,  4.94049408e-01, -1.26415844e+00, -6.58241170e-01,\n",
       "        1.20793033e+00, -7.74541180e-01, -9.83760606e-01, -7.69280816e-01,\n",
       "       -2.45727905e+00, -2.42928418e-01, -1.27247988e-01,  2.28874159e+00,\n",
       "       -9.22166218e-01, -6.39090775e-01, -1.04252541e+00,  1.07984833e-01,\n",
       "        1.42982675e+00,  1.46016133e+00,  1.37598898e-01, -6.32838325e-01,\n",
       "        9.04287734e-01, -1.63161848e+00,  7.41535039e-01,  1.39887121e+00,\n",
       "        2.50242699e-01,  1.45648381e+00,  8.22472579e-01,  1.73740252e+00,\n",
       "        3.52959427e-01,  7.98607348e-01,  6.32999215e-01, -4.71084415e-01,\n",
       "       -2.33769953e-01, -8.12121826e-01,  2.21863084e-01,  5.46320598e-01,\n",
       "       -1.98009035e+00, -5.76088289e-01,  4.62233285e-01,  6.13575799e-01,\n",
       "        1.40894294e+00,  3.59406325e-01,  7.84459417e-01,  3.10829458e-01,\n",
       "       -5.27317750e-01, -4.84778760e-01,  3.31248772e-01, -3.53924907e-01,\n",
       "       -2.55323480e+00, -1.99458182e-01, -5.10857675e-01,  1.46021491e-01,\n",
       "       -5.72932499e-01,  1.15530992e+00, -2.66821581e-01,  1.11309251e+00,\n",
       "        6.74873681e-01, -1.06743884e+00, -3.66681209e-03,  8.96048806e-01,\n",
       "        3.84675530e-01, -1.54022026e+00,  7.63415704e-01, -2.40259840e-01,\n",
       "       -1.34156566e+00, -8.86411599e-01,  1.03589515e+00, -8.11660696e-02,\n",
       "       -1.33646041e-01, -6.61504753e-01, -3.88192702e-01,  4.77704993e-01,\n",
       "        1.19616151e+00,  6.27490797e-02, -1.26114810e+00, -1.62262361e+00,\n",
       "       -1.36392812e-01, -3.48782489e-01,  2.14118701e+00, -2.26421853e+00,\n",
       "       -5.39320331e-01, -3.07345164e-02, -3.75506983e-01, -1.26203867e+00,\n",
       "        1.63797923e+00,  3.56463135e-01, -1.53843822e-01, -7.95425952e-01,\n",
       "        7.19338189e-01,  5.75224233e-01,  3.15923247e-01,  8.58761311e-01,\n",
       "       -9.18850399e-01, -8.61099591e-01, -1.21579009e-01,  1.27932927e-01,\n",
       "        1.11882749e+00, -9.19723373e-02, -3.70575616e-01,  1.23025443e+00,\n",
       "       -8.10884906e-01, -7.19893029e-01, -5.33356902e-01, -8.36018615e-01,\n",
       "        7.83509895e-01, -2.01204492e+00, -1.15419885e+00, -6.09485601e-01,\n",
       "       -9.80848744e-01,  5.15198584e-01, -1.79424850e+00,  1.90255330e-01,\n",
       "       -1.13773756e+00, -1.70014526e+00, -1.13936496e+00, -1.75297988e+00,\n",
       "       -1.00676036e+00, -1.06150443e+00,  3.19338741e-01,  5.40949166e-01,\n",
       "       -3.41536313e-01,  5.23758117e-01,  4.22697072e-01, -1.73507785e+00,\n",
       "        1.03402469e+00,  5.06871421e-01, -1.15897753e+00, -4.39939310e-02,\n",
       "        2.88719785e-01, -1.09799106e+00, -2.03727898e-01, -3.69382147e-01,\n",
       "        1.28008151e+00, -2.78814649e-01,  4.30898835e-01,  1.12840418e+00,\n",
       "       -8.54028656e-01,  7.47112806e-01,  1.34943220e-01,  2.96515289e-01,\n",
       "       -6.31552982e-01,  3.24209147e-01,  6.82855807e-01, -3.35256121e-01,\n",
       "        9.93154505e-01,  1.17539331e+00,  8.18951545e-01,  6.31205371e-01,\n",
       "       -9.90698981e-01,  3.77488209e-01, -2.20876455e-01,  1.26201198e+00,\n",
       "        1.65438224e+00, -6.80591225e-01,  5.44047202e-01,  1.88914139e+00,\n",
       "       -2.91464231e-01,  2.55917608e-01,  6.49755629e-01,  3.37506325e-02,\n",
       "        2.96576346e+00,  6.64375201e-01,  6.59168355e-02, -2.11710300e+00,\n",
       "       -1.49908656e+00, -5.51316358e-01, -1.68834537e-01,  6.64215398e-01,\n",
       "       -6.88547884e-02, -1.09986790e+00,  9.87917370e-01,  4.60706713e-01,\n",
       "       -1.42677427e+00, -1.27313626e+00,  2.04931827e+00, -7.29966468e-03,\n",
       "        2.13246980e-01,  1.13445402e+00, -7.66551863e-01, -9.62735580e-01,\n",
       "       -1.49514956e-03,  4.90975522e-01, -4.52947872e-01,  4.48347324e-01,\n",
       "        7.80123515e-01, -1.34726888e-03,  2.81718900e-01, -1.15747354e+00,\n",
       "       -7.34180112e-02,  6.93457113e-01,  1.36807190e+00,  1.02700556e-01,\n",
       "       -9.83087135e-01, -7.95008773e-01, -8.87677808e-02,  2.30770091e-01,\n",
       "       -2.34905215e-01,  3.04651673e-01, -1.11271302e-01, -1.47556738e+00,\n",
       "        4.37363247e-01,  5.05238444e-01, -6.13117932e-01, -2.08301338e+00,\n",
       "       -8.95448968e-01,  1.14230482e-01,  9.05216327e-01,  4.55058703e-01,\n",
       "       -4.19023410e-01, -2.31635983e-01,  9.63130033e-02,  9.99349859e-01,\n",
       "        3.67818880e-03,  1.96922305e+00,  5.31402792e-01,  1.62303542e-01,\n",
       "       -5.98229123e-01, -1.27241204e-01,  4.65677254e-01,  8.42930182e-01,\n",
       "       -8.09020990e-01, -2.52430481e-01, -8.42314448e-01,  1.04815191e+00,\n",
       "        2.82077962e-01, -1.73265492e-01, -1.26361580e+00,  9.18903267e-02,\n",
       "        1.24878658e+00, -9.33335997e-01, -9.95054382e-01,  1.93551473e+00,\n",
       "        7.83116304e-01, -2.09437397e-01,  2.00469627e-01, -3.44167684e-01,\n",
       "       -1.27405393e+00, -1.69186718e+00, -6.07062040e-02, -1.39318625e+00,\n",
       "        1.32348764e+00,  9.46785365e-01,  4.94548328e-01, -8.34358143e-01,\n",
       "        1.20034458e-01,  1.07697582e+00, -6.75080557e-01, -2.56008928e-01,\n",
       "        1.51150586e+00, -8.20722932e-01,  8.46329469e-02, -1.65471988e+00,\n",
       "        2.74627324e-01, -4.53006899e-01,  6.50262277e-01, -4.56962702e-01,\n",
       "       -1.12150418e-01, -1.06553216e+00, -5.29770716e-01, -2.02465475e-01,\n",
       "        1.33396217e+00, -1.63163487e-01, -1.09682321e+00, -7.97649969e-01,\n",
       "       -6.60487681e-01, -9.27185492e-02, -3.50743103e-01, -1.44793109e+00,\n",
       "        1.29215341e+00,  1.27852090e+00, -1.47443179e+00, -5.89250206e-01,\n",
       "        6.51226281e-01, -5.91950684e-01,  1.95636248e+00, -9.37827492e-02,\n",
       "        2.26413391e+00, -1.15196519e+00,  7.06437603e-01, -6.56982355e-02,\n",
       "       -1.36539222e-01, -1.06616783e+00, -3.68670724e-01,  3.40720415e-02,\n",
       "       -6.26822123e-02, -3.51953619e-01,  3.24424344e-01,  2.49883006e-01,\n",
       "       -2.53015326e-01, -7.92562834e-01, -1.00122181e+00,  2.36063310e-01,\n",
       "       -9.97708325e-01,  1.03791738e-01, -2.99006945e-01, -1.06769487e+00,\n",
       "        5.16540683e-01,  6.12858672e-01, -1.19738122e-01, -3.68784195e-01,\n",
       "        8.48650329e-01,  4.39526741e-02,  4.94545543e-01,  5.03306982e-01,\n",
       "       -1.24924551e-01, -1.38428526e-01,  2.21558087e-01, -2.63291168e-01,\n",
       "        1.12225336e-01, -1.32932899e+00,  9.74997044e-01, -2.10939352e-01,\n",
       "        6.28217847e-02, -1.62483297e+00,  1.11696284e+00,  7.20294670e-01,\n",
       "        1.17953741e+00, -2.80613645e+00, -1.40847901e+00,  2.99580296e-01,\n",
       "        1.01147762e+00, -2.08276718e-01,  1.36058838e-01,  1.64210594e-01,\n",
       "        7.19840541e-01,  9.67072833e-02,  9.41848356e-01,  2.22318658e-01,\n",
       "       -5.45244749e-01, -1.00989210e+00,  2.35670436e+00, -8.71376004e-01,\n",
       "        1.40263996e+00, -5.70661193e-01, -1.72894490e+00,  1.64653324e-01,\n",
       "       -6.60070533e-01,  4.21309053e-01,  3.92097399e-02,  1.53376742e+00,\n",
       "        1.32521778e-01, -2.69594370e+00, -3.41923270e-01,  9.39902433e-01,\n",
       "        5.62909905e-01, -9.77691170e-01,  9.80397344e-01,  2.32361471e-01,\n",
       "        8.01482383e-01, -1.29972242e+00,  1.16151042e+00,  1.27111329e-01,\n",
       "        9.21248933e-01,  5.43643371e-01, -6.51406307e-01,  2.06358097e+00,\n",
       "       -1.38890036e+00,  5.27696344e-01,  1.17904277e-02, -4.57069079e-01,\n",
       "        3.36924375e-01,  4.41446875e-01,  9.68127490e-01,  3.30300946e+00,\n",
       "       -4.83565715e-01, -2.15903080e-01, -1.27207154e+00, -8.81932302e-01,\n",
       "       -1.26977374e+00,  1.78168250e+00,  1.01180760e+00,  7.07086004e-01,\n",
       "        2.02921757e+00,  1.58628064e-01,  1.05031974e+00,  3.52131558e-01,\n",
       "        6.24562504e-01,  2.57161245e-01, -1.29569021e+00, -1.03786122e+00,\n",
       "        2.88612576e-02, -1.48423097e+00, -8.50268728e-02,  1.24404437e+00,\n",
       "       -1.71306490e+00,  8.92510994e-01, -3.66734590e-01,  9.24880325e-01,\n",
       "       -2.35054781e+00,  1.59746513e+00, -1.99119835e-01,  4.88664706e-01,\n",
       "        1.00082733e+00,  5.05914059e-01,  9.69323454e-01,  1.16252248e+00,\n",
       "       -9.91418337e-01, -1.75210263e-01, -7.62526816e-01,  5.80296693e-01,\n",
       "       -4.32030949e-01,  6.19071362e-01,  8.00326262e-01, -9.24918784e-01,\n",
       "        4.46398051e-01, -1.18751462e+00,  9.36801249e-02, -3.55193634e-01,\n",
       "        1.06969820e-01,  9.82994830e-02,  6.62002541e-01,  1.10088184e+00,\n",
       "        7.30470712e-01, -1.56962545e-01, -3.31705940e-02, -8.59556259e-01,\n",
       "       -5.69062973e-01,  2.12583335e+00,  7.20207587e-01, -1.86470540e+00,\n",
       "       -2.04879771e+00,  1.20908343e+00, -3.18442642e-01, -1.24853969e+00,\n",
       "       -8.68145485e-01, -2.76335689e-01,  8.79438728e-01, -4.67205866e-01,\n",
       "        6.58734245e-01, -1.78932975e+00, -1.08430303e+00, -1.17628361e-01,\n",
       "       -1.64747265e+00,  2.26801975e-01, -9.31864981e-02, -7.11316745e-01,\n",
       "       -3.34534981e-01, -8.29015747e-01, -4.96267032e-01,  3.26097246e-01,\n",
       "        1.57784994e+00, -1.50979155e-01, -1.09257079e+00,  1.01264283e+00,\n",
       "       -7.76337931e-01,  1.40532083e-01,  7.51557633e-01,  1.48827839e+00,\n",
       "        5.92550471e-01,  1.09072762e+00,  6.64259721e-01,  2.08776068e+00,\n",
       "       -3.33384236e-01,  1.78887661e-03,  5.04370911e-01,  2.27619356e-02,\n",
       "       -5.96820504e-03,  1.87039768e+00,  2.80707374e-01,  8.09149869e-01,\n",
       "        5.18813484e-01, -2.04001963e+00, -3.47342677e-01, -1.24667435e-01,\n",
       "       -1.20635921e+00,  1.05696370e+00, -2.30792559e+00, -2.01726061e-01,\n",
       "       -1.87671124e+00,  3.74116257e-01,  5.02689765e-01, -4.78646583e-01,\n",
       "       -5.43999635e-01, -1.13998363e+00, -1.02827973e+00, -1.00464422e+00,\n",
       "        1.25129330e+00, -8.64918640e-01,  1.93757936e-01, -8.73573154e-01,\n",
       "        2.10398461e+00, -9.82885132e-01, -5.35361600e-01, -1.92577513e-01,\n",
       "       -2.03745273e-01,  9.07650858e-01, -3.92851037e-01,  6.18860917e-01,\n",
       "        5.13753551e-01, -2.66692138e+00,  8.82949035e-01, -1.44340604e-02,\n",
       "        2.94912906e+00,  9.60628676e-01, -1.32954197e+00, -1.50872223e+00,\n",
       "        5.37833249e-01,  2.98445085e-01,  5.24477766e-01, -1.91345179e+00,\n",
       "       -8.92030491e-01, -1.17462024e-01, -6.76877658e-01,  8.61658287e-02,\n",
       "        3.50005345e-01, -9.88301110e-01, -1.04629806e-01,  4.62177290e-01,\n",
       "       -2.40182956e-01, -1.28016505e+00,  1.28507551e+00,  1.25026295e+00,\n",
       "       -1.08380802e+00, -1.31115684e+00,  2.09422934e+00,  1.11097973e+00,\n",
       "       -4.06719938e-01,  7.23417427e-01,  5.23047979e-01, -4.95653384e-01,\n",
       "        4.97809544e-01, -1.47305919e+00, -2.10818970e+00,  3.56779063e-01,\n",
       "       -7.57518278e-01, -1.27924566e+00,  2.21800470e-01, -1.71349271e+00,\n",
       "       -4.09352656e-01, -2.60999773e-01, -4.82414192e-01,  2.23768433e-01,\n",
       "        6.16878786e-01,  7.08848171e-01,  1.05094117e+00, -6.38050409e-01,\n",
       "       -3.37452011e-01,  7.72600853e-01, -1.14287839e-01, -1.33666250e-01,\n",
       "        1.39437736e+00, -5.94924841e-01,  1.98649746e+00, -3.65611975e-01,\n",
       "        1.38632919e-01, -1.02247677e+00,  1.89491692e-01,  1.39317181e-01,\n",
       "        9.67496975e-01,  1.26612224e+00, -1.56404979e+00, -4.70303037e-01,\n",
       "       -9.46272845e-02,  1.00708918e+00,  2.06114257e-02, -1.63002972e+00,\n",
       "       -2.94749154e-01,  1.71161941e+00,  1.04901363e+00, -1.40484082e+00,\n",
       "        1.62556074e+00, -5.72146445e-01,  8.31517285e-01,  1.07651844e+00,\n",
       "       -7.15471805e-01, -2.03220006e+00, -4.49900581e-01,  1.73536563e-01,\n",
       "       -1.01556736e-01, -1.23969312e+00,  3.44480286e+00, -5.55561764e-01,\n",
       "        3.05931028e-01,  1.06581363e+00,  9.13079809e-01, -1.19612871e+00])"
      ]
     },
     "execution_count": 5,
     "metadata": {},
     "output_type": "execute_result"
    }
   ],
   "source": [
    "samples = np.random.normal(size=1000)\n",
    "samples"
   ]
  },
  {
   "cell_type": "code",
   "execution_count": 6,
   "id": "d3d11849",
   "metadata": {},
   "outputs": [
    {
     "data": {
      "text/plain": [
       "array([-4, -3, -2, -1,  0,  1,  2,  3,  4])"
      ]
     },
     "execution_count": 6,
     "metadata": {},
     "output_type": "execute_result"
    }
   ],
   "source": [
    "bins = np.arange(-4,5)\n",
    "bins"
   ]
  },
  {
   "cell_type": "code",
   "execution_count": 7,
   "id": "68c64b68",
   "metadata": {},
   "outputs": [
    {
     "data": {
      "text/plain": [
       "array([0.   , 0.026, 0.134, 0.349, 0.348, 0.119, 0.021, 0.003])"
      ]
     },
     "execution_count": 7,
     "metadata": {},
     "output_type": "execute_result"
    }
   ],
   "source": [
    "histogram = np.histogram(samples, bins=bins, density=True)[0]\n",
    "histogram"
   ]
  },
  {
   "cell_type": "code",
   "execution_count": 9,
   "id": "e2c09a66",
   "metadata": {},
   "outputs": [
    {
     "data": {
      "text/plain": [
       "array([-3.5, -2.5, -1.5, -0.5,  0.5,  1.5,  2.5,  3.5])"
      ]
     },
     "execution_count": 9,
     "metadata": {},
     "output_type": "execute_result"
    }
   ],
   "source": [
    "bins= 0.5*(bins[1:] + bins[:-1])\n",
    "bins"
   ]
  },
  {
   "cell_type": "code",
   "execution_count": 10,
   "id": "526c9d3a",
   "metadata": {},
   "outputs": [
    {
     "data": {
      "text/plain": [
       "[<matplotlib.lines.Line2D at 0x1d608fa28b0>]"
      ]
     },
     "execution_count": 10,
     "metadata": {},
     "output_type": "execute_result"
    },
    {
     "data": {
      "image/png": "[encoded data removed]",
      "text/plain": [
       "<Figure size 432x288 with 1 Axes>"
      ]
     },
     "metadata": {
      "needs_background": "light"
     },
     "output_type": "display_data"
    }
   ],
   "source": [
    "pdf = stats.norm.pdf(bins)\n",
    "\n",
    "plt.plot(bins, histogram)"
   ]
  },
  {
   "cell_type": "code",
   "execution_count": 11,
   "id": "9d279bb6",
   "metadata": {},
   "outputs": [
    {
     "data": {
      "text/plain": [
       "[<matplotlib.lines.Line2D at 0x1d60a712790>]"
      ]
     },
     "execution_count": 11,
     "metadata": {},
     "output_type": "execute_result"
    },
    {
     "data": {
      "image/png": "[encoded data removed]",
      "text/plain": [
       "<Figure size 432x288 with 1 Axes>"
      ]
     },
     "metadata": {
      "needs_background": "light"
     },
     "output_type": "display_data"
    }
   ],
   "source": [
    "plt.plot(bins,pdf)"
   ]
  },
  {
   "cell_type": "code",
   "execution_count": 12,
   "id": "4aeeb843",
   "metadata": {},
   "outputs": [],
   "source": [
    "loc, std = stats.norm.fit(samples)"
   ]
  },
  {
   "cell_type": "code",
   "execution_count": 13,
   "id": "e56c468d",
   "metadata": {},
   "outputs": [
    {
     "data": {
      "text/plain": [
       "-0.0281200343921503"
      ]
     },
     "execution_count": 13,
     "metadata": {},
     "output_type": "execute_result"
    }
   ],
   "source": [
    "loc"
   ]
  },
  {
   "cell_type": "code",
   "execution_count": 14,
   "id": "b9890f68",
   "metadata": {},
   "outputs": [
    {
     "data": {
      "text/plain": [
       "0.9820518429298444"
      ]
     },
     "execution_count": 14,
     "metadata": {},
     "output_type": "execute_result"
    }
   ],
   "source": [
    "std"
   ]
  },
  {
   "cell_type": "code",
   "execution_count": 15,
   "id": "ecddb6e8",
   "metadata": {},
   "outputs": [
    {
     "data": {
      "text/plain": [
       "-0.023365291408899543"
      ]
     },
     "execution_count": 15,
     "metadata": {},
     "output_type": "execute_result"
    }
   ],
   "source": [
    "stats.scoreatpercentile(samples, 50)"
   ]
  },
  {
   "cell_type": "code",
   "execution_count": 16,
   "id": "d4eaa292",
   "metadata": {},
   "outputs": [
    {
     "data": {
      "text/plain": [
       "-0.023365291408899543"
      ]
     },
     "execution_count": 16,
     "metadata": {},
     "output_type": "execute_result"
    }
   ],
   "source": [
    "np.median(samples)"
   ]
  },
  {
   "cell_type": "code",
   "execution_count": 18,
   "id": "a09e9e2a",
   "metadata": {},
   "outputs": [
    {
     "data": {
      "text/plain": [
       "1.175807722435534"
      ]
     },
     "execution_count": 18,
     "metadata": {},
     "output_type": "execute_result"
    }
   ],
   "source": [
    "stats.scoreatpercentile(samples, 90)"
   ]
  },
  {
   "cell_type": "code",
   "execution_count": 21,
   "id": "d3562d44",
   "metadata": {},
   "outputs": [
    {
     "data": {
      "text/plain": [
       "Ttest_indResult(statistic=-3.806827107707382, pvalue=0.00023396134402772694)"
      ]
     },
     "execution_count": 21,
     "metadata": {},
     "output_type": "execute_result"
    }
   ],
   "source": [
    "a = np.random.normal(0,1, size=100)\n",
    "b = np.random.normal(1,1, size=10)\n",
    "\n",
    "stats.ttest_ind(a,b)"
   ]
  },
  {
   "cell_type": "markdown",
   "id": "24a59c28",
   "metadata": {},
   "source": [
    "scipy.integrate\n",
    "scipy.optimize\n",
    "scipy.fftpack\n",
    "scipy.ndimage"
   ]
  },
  {
   "cell_type": "code",
   "execution_count": null,
   "id": "507242f1",
   "metadata": {},
   "outputs": [],
   "source": []
  }
 ],
 "metadata": {
  "kernelspec": {
   "display_name": "Python 3",
   "language": "python",
   "name": "python3"
  },
  "language_info": {
   "codemirror_mode": {
    "name": "ipython",
    "version": 3
   },
   "file_extension": ".py",
   "mimetype": "text/x-python",
   "name": "python",
   "nbconvert_exporter": "python",
   "pygments_lexer": "ipython3",
   "version": "3.8.8"
  }
 },
 "nbformat": 4,
 "nbformat_minor": 5
}
